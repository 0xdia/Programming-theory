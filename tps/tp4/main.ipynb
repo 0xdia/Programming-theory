{
 "cells": [
  {
   "cell_type": "code",
   "execution_count": 13,
   "id": "7b183e7c-a643-4eff-9512-f4567bc42bfc",
   "metadata": {},
   "outputs": [],
   "source": [
    "import pygraphviz as pgv\n",
    "from IPython.display import SVG\n",
    "from tsp import TSP\n",
    "import time"
   ]
  },
  {
   "cell_type": "code",
   "execution_count": 14,
   "id": "f070e6c4-ba2f-4813-a4ff-a592de56a303",
   "metadata": {},
   "outputs": [
    {
     "name": "stdout",
     "output_type": "stream",
     "text": [
      "Temps d'execution: 0.016177654266357422\n",
      "Meilleure distance = 100\n"
     ]
    },
    {
     "data": {
      "image/svg+xml": "<svg xmlns=\"http://www.w3.org/2000/svg\" xmlns:xlink=\"http://www.w3.org/1999/xlink\" width=\"584pt\" height=\"579pt\" viewBox=\"0.00 0.00 583.54 579.23\">\n<g id=\"graph0\" class=\"graph\" transform=\"scale(1 1) rotate(0) translate(4 575.23)\">\n<polygon fill=\"#ffffff\" stroke=\"transparent\" points=\"-4,4 -4,-575.23 579.54,-575.23 579.54,4 -4,4\"/>\n<!-- N3 -->\n<g id=\"node1\" class=\"node node\">\n<title>N3</title>\n<ellipse fill=\"#4e9a06\" stroke=\"#000000\" cx=\"26.54\" cy=\"-172.31\" rx=\"25\" ry=\"25\"/>\n<text text-anchor=\"middle\" x=\"26.54\" y=\"-168.61\" font-family=\"Times,serif\" font-size=\"14.00\">N3</text>\n</g>\n<!-- N6 -->\n<g id=\"node2\" class=\"node node\">\n<title>N6</title>\n<ellipse fill=\"#4e9a06\" stroke=\"#000000\" cx=\"550.31\" cy=\"-416.23\" rx=\"25\" ry=\"25\"/>\n<text text-anchor=\"middle\" x=\"550.31\" y=\"-412.53\" font-family=\"Times,serif\" font-size=\"14.00\">N6</text>\n</g>\n<!-- N3&#45;&#45;N6 -->\n<g id=\"edge1\" class=\"edge edge\">\n<title>N3--N6</title>\n<path fill=\"none\" stroke=\"red\" stroke-width=\"5\" d=\"M49.38,-182.95C135.72,-223.15 441.6,-365.6 527.64,-405.67\"/>\n<text text-anchor=\"middle\" x=\"295.51\" y=\"-298.11\" font-family=\"Times,serif\" font-size=\"14.00\">21</text>\n</g>\n<!-- N5 -->\n<g id=\"node3\" class=\"node node\">\n<title>N5</title>\n<ellipse fill=\"#4e9a06\" stroke=\"#000000\" cx=\"550.54\" cy=\"-170.62\" rx=\"25\" ry=\"25\"/>\n<text text-anchor=\"middle\" x=\"550.54\" y=\"-166.92\" font-family=\"Times,serif\" font-size=\"14.00\">N5</text>\n</g>\n<!-- N3&#45;&#45;N5 -->\n<g id=\"edge2\" class=\"edge edge\">\n<title>N3--N5</title>\n<path fill=\"none\" stroke=\"red\" stroke-width=\"5\" d=\"M51.81,-172.23C140.54,-171.94 437.19,-170.98 525.52,-170.7\"/>\n<text text-anchor=\"middle\" x=\"281.67\" y=\"-175.26\" font-family=\"Times,serif\" font-size=\"14.00\">20</text>\n</g>\n<!-- N4 -->\n<g id=\"node4\" class=\"node node\">\n<title>N4</title>\n<ellipse fill=\"#4e9a06\" stroke=\"#000000\" cx=\"284.62\" cy=\"-25\" rx=\"25\" ry=\"25\"/>\n<text text-anchor=\"middle\" x=\"284.62\" y=\"-21.3\" font-family=\"Times,serif\" font-size=\"14.00\">N4</text>\n</g>\n<!-- N3&#45;&#45;N4 -->\n<g id=\"edge3\" class=\"edge edge\">\n<title>N3--N4</title>\n<path fill=\"none\" stroke=\"#a0a0a4\" d=\"M48.54,-159.75C97.3,-131.92 213.96,-65.33 262.67,-37.53\"/>\n<text text-anchor=\"middle\" x=\"148.6\" y=\"-102.44\" font-family=\"Times,serif\" font-size=\"14.00\">19</text>\n</g>\n<!-- N1 -->\n<g id=\"node5\" class=\"node node\">\n<title>N1</title>\n<ellipse fill=\"#4e9a06\" stroke=\"#000000\" cx=\"267.62\" cy=\"-546.23\" rx=\"25\" ry=\"25\"/>\n<text text-anchor=\"middle\" x=\"267.62\" y=\"-542.53\" font-family=\"Times,serif\" font-size=\"14.00\">N1</text>\n</g>\n<!-- N6&#45;&#45;N1 -->\n<g id=\"edge4\" class=\"edge edge\">\n<title>N6--N1</title>\n<path fill=\"none\" stroke=\"red\" stroke-width=\"5\" d=\"M527.17,-426.87C474.03,-451.31 343.74,-511.22 290.67,-535.63\"/>\n<text text-anchor=\"middle\" x=\"401.92\" y=\"-485.05\" font-family=\"Times,serif\" font-size=\"14.00\">14</text>\n</g>\n<!-- N5&#45;&#45;N6 -->\n<g id=\"edge5\" class=\"edge edge\">\n<title>N5--N6</title>\n<path fill=\"none\" stroke=\"#a0a0a4\" d=\"M550.51,-195.98C550.47,-243.16 550.38,-343.93 550.33,-391.01\"/>\n<text text-anchor=\"middle\" x=\"543.42\" y=\"-297.29\" font-family=\"Times,serif\" font-size=\"14.00\">24</text>\n</g>\n<!-- N4&#45;&#45;N6 -->\n<g id=\"edge6\" class=\"edge edge\">\n<title>N4--N6</title>\n<path fill=\"none\" stroke=\"#a0a0a4\" d=\"M298.71,-45.76C344.74,-113.53 490.27,-327.82 536.24,-395.52\"/>\n<text text-anchor=\"middle\" x=\"410.48\" y=\"-224.44\" font-family=\"Times,serif\" font-size=\"14.00\">23</text>\n</g>\n<!-- N4&#45;&#45;N5 -->\n<g id=\"edge7\" class=\"edge edge\">\n<title>N4--N5</title>\n<path fill=\"none\" stroke=\"#a0a0a4\" d=\"M306.83,-37.16C357.01,-64.64 478.63,-131.24 528.57,-158.59\"/>\n<text text-anchor=\"middle\" x=\"410.7\" y=\"-101.68\" font-family=\"Times,serif\" font-size=\"14.00\">22</text>\n</g>\n<!-- N1&#45;&#45;N3 -->\n<g id=\"edge8\" class=\"edge edge\">\n<title>N1--N3</title>\n<path fill=\"none\" stroke=\"#a0a0a4\" d=\"M253.96,-525.06C211.63,-459.4 82.88,-259.69 40.34,-193.71\"/>\n<text text-anchor=\"middle\" x=\"140.15\" y=\"-363.18\" font-family=\"Times,serif\" font-size=\"14.00\">11</text>\n</g>\n<!-- N1&#45;&#45;N5 -->\n<g id=\"edge9\" class=\"edge edge\">\n<title>N1--N5</title>\n<path fill=\"none\" stroke=\"#a0a0a4\" d=\"M282.83,-526.04C331.95,-460.82 486.02,-256.27 535.25,-190.91\"/>\n<text text-anchor=\"middle\" x=\"402.04\" y=\"-362.27\" font-family=\"Times,serif\" font-size=\"14.00\">13</text>\n</g>\n<!-- N1&#45;&#45;N4 -->\n<g id=\"edge10\" class=\"edge edge\">\n<title>N1--N4</title>\n<path fill=\"none\" stroke=\"red\" stroke-width=\"5\" d=\"M268.44,-521.09C271.31,-432.94 280.92,-138.43 283.79,-50.19\"/>\n<text text-anchor=\"middle\" x=\"269.11\" y=\"-289.44\" font-family=\"Times,serif\" font-size=\"14.00\">12</text>\n</g>\n<!-- N2 -->\n<g id=\"node6\" class=\"node node\">\n<title>N2</title>\n<ellipse fill=\"#4e9a06\" stroke=\"#000000\" cx=\"25\" cy=\"-431.38\" rx=\"25\" ry=\"25\"/>\n<text text-anchor=\"middle\" x=\"25\" y=\"-427.68\" font-family=\"Times,serif\" font-size=\"14.00\">N2</text>\n</g>\n<!-- N1&#45;&#45;N2 -->\n<g id=\"edge11\" class=\"edge edge\">\n<title>N1--N2</title>\n<path fill=\"none\" stroke=\"#a0a0a4\" d=\"M244.79,-535.43C198.55,-513.54 94.28,-464.18 47.94,-442.24\"/>\n<text text-anchor=\"middle\" x=\"139.37\" y=\"-492.63\" font-family=\"Times,serif\" font-size=\"14.00\">10</text>\n</g>\n<!-- N2&#45;&#45;N3 -->\n<g id=\"edge12\" class=\"edge edge\">\n<title>N2--N3</title>\n<path fill=\"none\" stroke=\"#a0a0a4\" d=\"M25.15,-406.07C25.45,-356.41 26.1,-246.77 26.39,-197.34\"/>\n<text text-anchor=\"middle\" x=\"18.77\" y=\"-305.51\" font-family=\"Times,serif\" font-size=\"14.00\">15</text>\n</g>\n<!-- N2&#45;&#45;N6 -->\n<g id=\"edge13\" class=\"edge edge\">\n<title>N2--N6</title>\n<path fill=\"none\" stroke=\"#a0a0a4\" d=\"M50.34,-430.65C139.28,-428.09 436.68,-419.51 525.23,-416.95\"/>\n<text text-anchor=\"middle\" x=\"280.78\" y=\"-427.6\" font-family=\"Times,serif\" font-size=\"14.00\">18</text>\n</g>\n<!-- N2&#45;&#45;N5 -->\n<g id=\"edge14\" class=\"edge edge\">\n<title>N2--N5</title>\n<path fill=\"none\" stroke=\"red\" stroke-width=\"5\" d=\"M47.58,-420.18C133.83,-377.38 441.94,-224.5 528.04,-181.78\"/>\n<text text-anchor=\"middle\" x=\"280.81\" y=\"-304.78\" font-family=\"Times,serif\" font-size=\"14.00\">17</text>\n</g>\n<!-- N2&#45;&#45;N4 -->\n<g id=\"edge15\" class=\"edge edge\">\n<title>N2--N4</title>\n<path fill=\"none\" stroke=\"red\" stroke-width=\"5\" d=\"M38.59,-410.11C83.35,-340.05 225.83,-117.02 270.84,-46.56\"/>\n<text text-anchor=\"middle\" x=\"147.72\" y=\"-232.13\" font-family=\"Times,serif\" font-size=\"14.00\">16</text>\n</g>\n</g>\n</svg>",
      "text/plain": [
       "<IPython.core.display.SVG object>"
      ]
     },
     "execution_count": 14,
     "metadata": {},
     "output_type": "execute_result"
    }
   ],
   "source": [
    "g = pgv.AGraph(\"./graph.dot\").to_undirected()\n",
    "instance = TSP(g)\n",
    "instance.algorithm('N1')\n",
    "print(f\"Temps d'execution: {instance.execution_time}\")\n",
    "print(f\"Meilleure distance = {instance.best_distance}\")\n",
    "instance.graph.layout()\n",
    "instance.graph.draw(\"result.svg\")\n",
    "SVG(\"./result.svg\")"
   ]
  },
  {
   "cell_type": "code",
   "execution_count": 15,
   "id": "62071777-6dee-4ff2-87a1-e8a8ee67dbe1",
   "metadata": {},
   "outputs": [
    {
     "name": "stdout",
     "output_type": "stream",
     "text": [
      "Temps d'execution: 0.013165473937988281\n",
      "Meilleure distance = 104\n"
     ]
    },
    {
     "data": {
      "image/svg+xml": "<svg xmlns=\"http://www.w3.org/2000/svg\" xmlns:xlink=\"http://www.w3.org/1999/xlink\" width=\"584pt\" height=\"579pt\" viewBox=\"0.00 0.00 583.54 579.23\">\n<g id=\"graph0\" class=\"graph\" transform=\"scale(1 1) rotate(0) translate(4 575.23)\">\n<polygon fill=\"#ffffff\" stroke=\"transparent\" points=\"-4,4 -4,-575.23 579.54,-575.23 579.54,4 -4,4\"/>\n<!-- N3 -->\n<g id=\"node1\" class=\"node node\">\n<title>N3</title>\n<ellipse fill=\"#4e9a06\" stroke=\"#000000\" cx=\"26.54\" cy=\"-172.31\" rx=\"25\" ry=\"25\"/>\n<text text-anchor=\"middle\" x=\"26.54\" y=\"-168.61\" font-family=\"Times,serif\" font-size=\"14.00\">N3</text>\n</g>\n<!-- N6 -->\n<g id=\"node2\" class=\"node node\">\n<title>N6</title>\n<ellipse fill=\"#4e9a06\" stroke=\"#000000\" cx=\"550.31\" cy=\"-416.23\" rx=\"25\" ry=\"25\"/>\n<text text-anchor=\"middle\" x=\"550.31\" y=\"-412.53\" font-family=\"Times,serif\" font-size=\"14.00\">N6</text>\n</g>\n<!-- N3&#45;&#45;N6 -->\n<g id=\"edge1\" class=\"edge edge\">\n<title>N3--N6</title>\n<path fill=\"none\" stroke=\"#a0a0a4\" d=\"M49.38,-182.95C135.72,-223.15 441.6,-365.6 527.64,-405.67\"/>\n<text text-anchor=\"middle\" x=\"295.51\" y=\"-298.11\" font-family=\"Times,serif\" font-size=\"14.00\">21</text>\n</g>\n<!-- N5 -->\n<g id=\"node3\" class=\"node node\">\n<title>N5</title>\n<ellipse fill=\"#4e9a06\" stroke=\"#000000\" cx=\"550.54\" cy=\"-170.62\" rx=\"25\" ry=\"25\"/>\n<text text-anchor=\"middle\" x=\"550.54\" y=\"-166.92\" font-family=\"Times,serif\" font-size=\"14.00\">N5</text>\n</g>\n<!-- N3&#45;&#45;N5 -->\n<g id=\"edge2\" class=\"edge edge\">\n<title>N3--N5</title>\n<path fill=\"none\" stroke=\"#a0a0a4\" d=\"M51.81,-172.23C140.54,-171.94 437.19,-170.98 525.52,-170.7\"/>\n<text text-anchor=\"middle\" x=\"281.67\" y=\"-175.26\" font-family=\"Times,serif\" font-size=\"14.00\">20</text>\n</g>\n<!-- N4 -->\n<g id=\"node4\" class=\"node node\">\n<title>N4</title>\n<ellipse fill=\"#4e9a06\" stroke=\"#000000\" cx=\"284.62\" cy=\"-25\" rx=\"25\" ry=\"25\"/>\n<text text-anchor=\"middle\" x=\"284.62\" y=\"-21.3\" font-family=\"Times,serif\" font-size=\"14.00\">N4</text>\n</g>\n<!-- N3&#45;&#45;N4 -->\n<g id=\"edge3\" class=\"edge edge\">\n<title>N3--N4</title>\n<path fill=\"none\" stroke=\"red\" stroke-width=\"5\" d=\"M48.54,-159.75C97.3,-131.92 213.96,-65.33 262.67,-37.53\"/>\n<text text-anchor=\"middle\" x=\"148.6\" y=\"-102.44\" font-family=\"Times,serif\" font-size=\"14.00\">19</text>\n</g>\n<!-- N1 -->\n<g id=\"node5\" class=\"node node\">\n<title>N1</title>\n<ellipse fill=\"#4e9a06\" stroke=\"#000000\" cx=\"267.62\" cy=\"-546.23\" rx=\"25\" ry=\"25\"/>\n<text text-anchor=\"middle\" x=\"267.62\" y=\"-542.53\" font-family=\"Times,serif\" font-size=\"14.00\">N1</text>\n</g>\n<!-- N6&#45;&#45;N1 -->\n<g id=\"edge4\" class=\"edge edge\">\n<title>N6--N1</title>\n<path fill=\"none\" stroke=\"red\" stroke-width=\"5\" d=\"M527.17,-426.87C474.03,-451.31 343.74,-511.22 290.67,-535.63\"/>\n<text text-anchor=\"middle\" x=\"401.92\" y=\"-485.05\" font-family=\"Times,serif\" font-size=\"14.00\">14</text>\n</g>\n<!-- N5&#45;&#45;N6 -->\n<g id=\"edge5\" class=\"edge edge\">\n<title>N5--N6</title>\n<path fill=\"none\" stroke=\"red\" stroke-width=\"5\" d=\"M550.51,-195.98C550.47,-243.16 550.38,-343.93 550.33,-391.01\"/>\n<text text-anchor=\"middle\" x=\"543.42\" y=\"-297.29\" font-family=\"Times,serif\" font-size=\"14.00\">24</text>\n</g>\n<!-- N4&#45;&#45;N6 -->\n<g id=\"edge6\" class=\"edge edge\">\n<title>N4--N6</title>\n<path fill=\"none\" stroke=\"#a0a0a4\" d=\"M298.71,-45.76C344.74,-113.53 490.27,-327.82 536.24,-395.52\"/>\n<text text-anchor=\"middle\" x=\"410.48\" y=\"-224.44\" font-family=\"Times,serif\" font-size=\"14.00\">23</text>\n</g>\n<!-- N4&#45;&#45;N5 -->\n<g id=\"edge7\" class=\"edge edge\">\n<title>N4--N5</title>\n<path fill=\"none\" stroke=\"red\" stroke-width=\"5\" d=\"M306.83,-37.16C357.01,-64.64 478.63,-131.24 528.57,-158.59\"/>\n<text text-anchor=\"middle\" x=\"410.7\" y=\"-101.68\" font-family=\"Times,serif\" font-size=\"14.00\">22</text>\n</g>\n<!-- N1&#45;&#45;N3 -->\n<g id=\"edge8\" class=\"edge edge\">\n<title>N1--N3</title>\n<path fill=\"none\" stroke=\"#a0a0a4\" d=\"M253.96,-525.06C211.63,-459.4 82.88,-259.69 40.34,-193.71\"/>\n<text text-anchor=\"middle\" x=\"140.15\" y=\"-363.18\" font-family=\"Times,serif\" font-size=\"14.00\">11</text>\n</g>\n<!-- N1&#45;&#45;N5 -->\n<g id=\"edge9\" class=\"edge edge\">\n<title>N1--N5</title>\n<path fill=\"none\" stroke=\"#a0a0a4\" d=\"M282.83,-526.04C331.95,-460.82 486.02,-256.27 535.25,-190.91\"/>\n<text text-anchor=\"middle\" x=\"402.04\" y=\"-362.27\" font-family=\"Times,serif\" font-size=\"14.00\">13</text>\n</g>\n<!-- N1&#45;&#45;N4 -->\n<g id=\"edge10\" class=\"edge edge\">\n<title>N1--N4</title>\n<path fill=\"none\" stroke=\"#a0a0a4\" d=\"M268.44,-521.09C271.31,-432.94 280.92,-138.43 283.79,-50.19\"/>\n<text text-anchor=\"middle\" x=\"269.11\" y=\"-289.44\" font-family=\"Times,serif\" font-size=\"14.00\">12</text>\n</g>\n<!-- N2 -->\n<g id=\"node6\" class=\"node node\">\n<title>N2</title>\n<ellipse fill=\"#4e9a06\" stroke=\"#000000\" cx=\"25\" cy=\"-431.38\" rx=\"25\" ry=\"25\"/>\n<text text-anchor=\"middle\" x=\"25\" y=\"-427.68\" font-family=\"Times,serif\" font-size=\"14.00\">N2</text>\n</g>\n<!-- N1&#45;&#45;N2 -->\n<g id=\"edge11\" class=\"edge edge\">\n<title>N1--N2</title>\n<path fill=\"none\" stroke=\"red\" stroke-width=\"5\" d=\"M244.79,-535.43C198.55,-513.54 94.28,-464.18 47.94,-442.24\"/>\n<text text-anchor=\"middle\" x=\"139.37\" y=\"-492.63\" font-family=\"Times,serif\" font-size=\"14.00\">10</text>\n</g>\n<!-- N2&#45;&#45;N3 -->\n<g id=\"edge12\" class=\"edge edge\">\n<title>N2--N3</title>\n<path fill=\"none\" stroke=\"red\" stroke-width=\"5\" d=\"M25.15,-406.07C25.45,-356.41 26.1,-246.77 26.39,-197.34\"/>\n<text text-anchor=\"middle\" x=\"18.77\" y=\"-305.51\" font-family=\"Times,serif\" font-size=\"14.00\">15</text>\n</g>\n<!-- N2&#45;&#45;N6 -->\n<g id=\"edge13\" class=\"edge edge\">\n<title>N2--N6</title>\n<path fill=\"none\" stroke=\"#a0a0a4\" d=\"M50.34,-430.65C139.28,-428.09 436.68,-419.51 525.23,-416.95\"/>\n<text text-anchor=\"middle\" x=\"280.78\" y=\"-427.6\" font-family=\"Times,serif\" font-size=\"14.00\">18</text>\n</g>\n<!-- N2&#45;&#45;N5 -->\n<g id=\"edge14\" class=\"edge edge\">\n<title>N2--N5</title>\n<path fill=\"none\" stroke=\"#a0a0a4\" d=\"M47.58,-420.18C133.83,-377.38 441.94,-224.5 528.04,-181.78\"/>\n<text text-anchor=\"middle\" x=\"280.81\" y=\"-304.78\" font-family=\"Times,serif\" font-size=\"14.00\">17</text>\n</g>\n<!-- N2&#45;&#45;N4 -->\n<g id=\"edge15\" class=\"edge edge\">\n<title>N2--N4</title>\n<path fill=\"none\" stroke=\"#a0a0a4\" d=\"M38.59,-410.11C83.35,-340.05 225.83,-117.02 270.84,-46.56\"/>\n<text text-anchor=\"middle\" x=\"147.72\" y=\"-232.13\" font-family=\"Times,serif\" font-size=\"14.00\">16</text>\n</g>\n</g>\n</svg>",
      "text/plain": [
       "<IPython.core.display.SVG object>"
      ]
     },
     "execution_count": 15,
     "metadata": {},
     "output_type": "execute_result"
    }
   ],
   "source": [
    "g = pgv.AGraph(\"./graph.dot\").to_undirected()\n",
    "instance = TSP(g)\n",
    "instance.hill_climbing('N1')\n",
    "print(f\"Temps d'execution: {instance.execution_time}\")\n",
    "print(f\"Meilleure distance = {instance.best_distance}\")\n",
    "instance.graph.layout()\n",
    "instance.graph.draw(\"result.svg\")\n",
    "SVG(\"./result.svg\")"
   ]
  },
  {
   "cell_type": "code",
   "execution_count": null,
   "id": "61bad326-d73b-45f4-9769-be18ea04843e",
   "metadata": {},
   "outputs": [],
   "source": []
  }
 ],
 "metadata": {
  "interpreter": {
   "hash": "916dbcbb3f70747c44a77c7bcd40155683ae19c65e1c03b4aa3499c5328201f1"
  },
  "kernelspec": {
   "display_name": "graphs",
   "language": "python",
   "name": "python3"
  },
  "language_info": {
   "codemirror_mode": {
    "name": "ipython",
    "version": 3
   },
   "file_extension": ".py",
   "mimetype": "text/x-python",
   "name": "python",
   "nbconvert_exporter": "python",
   "pygments_lexer": "ipython3",
   "version": "3.9.5"
  }
 },
 "nbformat": 4,
 "nbformat_minor": 5
}
